{
 "cells": [
  {
   "cell_type": "code",
   "execution_count": 1,
   "metadata": {},
   "outputs": [],
   "source": [
    "def sph2cart(r,theta,phi):\n",
    "    rcos_theta = r * np.cos(theta)\n",
    "    x = rcos_theta * np.cos(phi)\n",
    "    y = rcos_theta * np.sin(phi)\n",
    "    z = r * np.sin(theta)\n",
    "    return x, y, z\n",
    "\n",
    "def cart2sph(x,y,z):\n",
    "    XsqPlusYsq = x**2 + y**2\n",
    "    r = math.sqrt(XsqPlusYsq + z**2)               # r\n",
    "    elev = math.atan2(z,math.sqrt(XsqPlusYsq))     # theta\n",
    "    az = math.atan2(y,x)                           # phi\n",
    "    return r, elev, az"
   ]
  },
  {
   "cell_type": "code",
   "execution_count": 4,
   "metadata": {},
   "outputs": [],
   "source": [
    "import os"
   ]
  },
  {
   "cell_type": "code",
   "execution_count": 8,
   "metadata": {},
   "outputs": [
    {
     "data": {
      "text/plain": [
       "['favicon.ico', 'test.bmp', 'bottle.depth.tiff', 'bottle.jpg', 'index.css']"
      ]
     },
     "execution_count": 8,
     "metadata": {},
     "output_type": "execute_result"
    }
   ],
   "source": [
    "os.listdir(\"static\")"
   ]
  },
  {
   "cell_type": "code",
   "execution_count": 2,
   "metadata": {},
   "outputs": [],
   "source": [
    "from PIL import Image\n",
    "import numpy as np\n",
    "import math\n",
    "import open3d as o3d\n",
    "from open3d import JVisualizer\n",
    "from multiprocessing.pool import Pool\n",
    "import pymesh\n",
    "import os"
   ]
  },
  {
   "cell_type": "code",
   "execution_count": 3,
   "metadata": {},
   "outputs": [],
   "source": [
    "img = Image.open(\"static/bottle.depth.tiff\")\n",
    "img_bak = img\n",
    "img.show()"
   ]
  },
  {
   "cell_type": "code",
   "execution_count": 9,
   "metadata": {},
   "outputs": [],
   "source": [
    "# Lower depth map resolution\n",
    "nH = img.height//4\n",
    "nW = img.width//4\n",
    "img = img.resize((nW,nH),Image.ANTIALIAS)"
   ]
  },
  {
   "cell_type": "code",
   "execution_count": 10,
   "metadata": {},
   "outputs": [],
   "source": [
    "img.show()"
   ]
  },
  {
   "cell_type": "code",
   "execution_count": 11,
   "metadata": {},
   "outputs": [],
   "source": [
    "I = np.asarray(img)"
   ]
  },
  {
   "cell_type": "code",
   "execution_count": 13,
   "metadata": {},
   "outputs": [],
   "source": [
    "I.shape\n",
    "height,width = I.shape\n",
    "#height,width,channels = I.shape\n",
    "center_x = width//2\n",
    "center_y = height//2"
   ]
  },
  {
   "cell_type": "code",
   "execution_count": 14,
   "metadata": {},
   "outputs": [
    {
     "data": {
      "text/plain": [
       "(75,)"
      ]
     },
     "execution_count": 14,
     "metadata": {},
     "output_type": "execute_result"
    }
   ],
   "source": [
    "I[0].shape"
   ]
  },
  {
   "cell_type": "code",
   "execution_count": 23,
   "metadata": {},
   "outputs": [],
   "source": [
    "pool = Pool(3)\n",
    "def ptGen(tup):\n",
    "    x,y,z,r = tup\n",
    "    max_r , theta , phi = cart2sph(x,y,z)\n",
    "    r_normalized = (r/256) * max_r\n",
    "    x,y,z = sph2cart(r_normalized,theta,phi)\n",
    "    return [x,y,z]\n",
    "    \n",
    "queries = []\n",
    "for i in range(height):\n",
    "    for j in range(width):\n",
    "        x = j - center_x\n",
    "        y = center_y - i\n",
    "        z = 200\n",
    "        r = 256 - I[i][j]\n",
    "        #r = I[i][j][0]\n",
    "        \n",
    "        queries.append((x,y,z,r))  \n",
    "        \n",
    "pt_cloud = pool.map( ptGen , queries)\n",
    "pool.close()"
   ]
  },
  {
   "cell_type": "code",
   "execution_count": 24,
   "metadata": {},
   "outputs": [
    {
     "data": {
      "text/plain": [
       "[[-1.01171875, 1.3671875000000002, 5.468749999999999],\n",
       " [-0.9843749999999999, 1.3671874999999998, 5.46875],\n",
       " [-0.9570312500000002, 1.3671874999999998, 5.46875],\n",
       " [-0.9296874999999994, 1.3671874999999998, 5.46875],\n",
       " [-0.9023437499999999, 1.3671874999999998, 5.46875],\n",
       " [-0.8750000000000003, 1.3671875, 5.46875],\n",
       " [-0.8476562500000004, 1.3671875000000002, 5.468749999999999],\n",
       " [-0.8203124999999996, 1.3671874999999998, 5.468750000000001],\n",
       " [-1.3593750000000004, 2.3437500000000004, 9.375],\n",
       " [-1.6406250000000002, 2.9296874999999996, 11.71875]]"
      ]
     },
     "execution_count": 24,
     "metadata": {},
     "output_type": "execute_result"
    }
   ],
   "source": [
    "pt_cloud[:10]"
   ]
  },
  {
   "cell_type": "code",
   "execution_count": 25,
   "metadata": {},
   "outputs": [
    {
     "data": {
      "text/plain": [
       "[[-1.01171875, 1.3671875000000002, 5.468749999999999],\n",
       " [-0.9843749999999999, 1.3671874999999998, 5.46875],\n",
       " [-0.9570312500000002, 1.3671874999999998, 5.46875],\n",
       " [-0.9296874999999994, 1.3671874999999998, 5.46875],\n",
       " [-0.9023437499999999, 1.3671874999999998, 5.46875],\n",
       " [-0.8750000000000003, 1.3671875, 5.46875],\n",
       " [-0.8476562500000004, 1.3671875000000002, 5.468749999999999],\n",
       " [-0.8203124999999996, 1.3671874999999998, 5.468750000000001],\n",
       " [-1.3593750000000004, 2.3437500000000004, 9.375],\n",
       " [-1.6406250000000002, 2.9296874999999996, 11.71875]]"
      ]
     },
     "execution_count": 25,
     "metadata": {},
     "output_type": "execute_result"
    }
   ],
   "source": [
    "pt_cloud[:10]"
   ]
  },
  {
   "cell_type": "code",
   "execution_count": 26,
   "metadata": {},
   "outputs": [
    {
     "data": {
      "text/plain": [
       "(7500, 3)"
      ]
     },
     "execution_count": 26,
     "metadata": {},
     "output_type": "execute_result"
    }
   ],
   "source": [
    "pt_arr= np.array(pt_cloud)\n",
    "pt_arr.shape"
   ]
  },
  {
   "cell_type": "code",
   "execution_count": 27,
   "metadata": {},
   "outputs": [],
   "source": [
    "o3d_cloud = o3d.geometry.PointCloud()"
   ]
  },
  {
   "cell_type": "code",
   "execution_count": 28,
   "metadata": {},
   "outputs": [],
   "source": [
    "o3d_cloud.points = o3d.utility.Vector3dVector(pt_arr)"
   ]
  },
  {
   "cell_type": "code",
   "execution_count": 29,
   "metadata": {},
   "outputs": [],
   "source": [
    "o3d.visualization.draw_geometries_with_editing([o3d_cloud])"
   ]
  },
  {
   "cell_type": "code",
   "execution_count": 22,
   "metadata": {},
   "outputs": [
    {
     "data": {
      "text/plain": [
       "7500"
      ]
     },
     "execution_count": 22,
     "metadata": {},
     "output_type": "execute_result"
    }
   ],
   "source": [
    "len(pt_cloud)"
   ]
  },
  {
   "cell_type": "code",
   "execution_count": 18,
   "metadata": {},
   "outputs": [],
   "source": [
    "texture_verts = []\n",
    "mesh = []\n",
    "\n",
    "for i in range(height):\n",
    "    for j in range(width):\n",
    "        tex = [\n",
    "            j / width,\n",
    "            1 - i / height\n",
    "        ]\n",
    "        texture_verts.append(tex)\n",
    "\n",
    "for i in range(height - 1 ):\n",
    "    for j in range(width - 1):\n",
    "        triangle1 = [\n",
    "            i*width + j  ,\n",
    "            i*width + (j + 1) ,\n",
    "            (i+1)* width + j\n",
    "        ]\n",
    "        triangle1.reverse()\n",
    "        \n",
    "        triangle2 = [\n",
    "            i*width + (j + 1) ,\n",
    "            (i+1) * width + (j+1),\n",
    "            (i+1)* width + j\n",
    "        ]\n",
    "        triangle2.reverse()\n",
    "        \n",
    "        mesh.append(triangle1)\n",
    "        mesh.append(triangle2)\n",
    "\n",
    "        "
   ]
  },
  {
   "cell_type": "code",
   "execution_count": 19,
   "metadata": {},
   "outputs": [],
   "source": [
    "mesh_arr = np.array(mesh)"
   ]
  },
  {
   "cell_type": "code",
   "execution_count": 20,
   "metadata": {},
   "outputs": [
    {
     "data": {
      "text/plain": [
       "(40874, 3)"
      ]
     },
     "execution_count": 20,
     "metadata": {},
     "output_type": "execute_result"
    }
   ],
   "source": [
    "mesh_arr.shape"
   ]
  },
  {
   "cell_type": "code",
   "execution_count": 21,
   "metadata": {},
   "outputs": [],
   "source": [
    "o3d_mesh = o3d.geometry.TriangleMesh()"
   ]
  },
  {
   "cell_type": "code",
   "execution_count": 22,
   "metadata": {},
   "outputs": [],
   "source": [
    "o3d_mesh.vertices= o3d.utility.Vector3dVector(pt_arr)"
   ]
  },
  {
   "cell_type": "code",
   "execution_count": 23,
   "metadata": {},
   "outputs": [],
   "source": [
    "o3d_mesh.triangles = o3d.utility.Vector3iVector(mesh_arr)"
   ]
  },
  {
   "cell_type": "code",
   "execution_count": 24,
   "metadata": {},
   "outputs": [],
   "source": [
    "o3d.visualization.draw_geometries_with_editing([o3d_mesh])"
   ]
  },
  {
   "cell_type": "code",
   "execution_count": 25,
   "metadata": {},
   "outputs": [],
   "source": [
    "o3d_lines = o3d.geometry.LineSet.create_from_triangle_mesh(o3d_mesh)"
   ]
  },
  {
   "cell_type": "code",
   "execution_count": 26,
   "metadata": {},
   "outputs": [],
   "source": [
    "o3d.visualization.draw_geometries_with_editing([o3d_lines])"
   ]
  },
  {
   "cell_type": "code",
   "execution_count": 115,
   "metadata": {},
   "outputs": [],
   "source": [
    "temp = o3d_mesh.filter_smooth_taubin()"
   ]
  },
  {
   "cell_type": "code",
   "execution_count": 116,
   "metadata": {},
   "outputs": [],
   "source": [
    "o3d.visualization.draw_geometries_with_editing([temp])"
   ]
  },
  {
   "cell_type": "code",
   "execution_count": 358,
   "metadata": {},
   "outputs": [],
   "source": [
    "def writeObj(verts,faces,fName=\"test.obj\"):\n",
    "    f = open(fName,\"w+\")\n",
    "    for vert in verts:\n",
    "        x,y,z = vert\n",
    "        f.write(\"v {} {} {}\\n\".format(x/1000,y/1000,z/1000))\n",
    "        \n",
    "    for t_vert in texture_verts:\n",
    "        u,v = t_vert\n",
    "        f.write(\"vt {} {}\\n\".format(u,v))\n",
    "    \n",
    "    for face in faces:\n",
    "        a,b,c = face\n",
    "        f.write(\"f {}/{} {}/{} {}/{}\\n\".format(a+1,a+1,b+1,b+1,c+1,c+1))\n",
    "    f.close()\n",
    "        "
   ]
  },
  {
   "cell_type": "code",
   "execution_count": 359,
   "metadata": {},
   "outputs": [],
   "source": [
    "writeObj(pt_arr,mesh_arr)"
   ]
  },
  {
   "cell_type": "code",
   "execution_count": 128,
   "metadata": {},
   "outputs": [
    {
     "data": {
      "text/plain": [
       "'/usr/local/Cellar/python/3.7.4/Frameworks/Python.framework/Versions/3.7/Resources/Python.app/Contents/Resources'"
      ]
     },
     "execution_count": 128,
     "metadata": {},
     "output_type": "execute_result"
    }
   ],
   "source": [
    "os.getcwd()"
   ]
  },
  {
   "cell_type": "code",
   "execution_count": 129,
   "metadata": {},
   "outputs": [
    {
     "data": {
      "text/plain": [
       "(4141202, 3)"
      ]
     },
     "execution_count": 129,
     "metadata": {},
     "output_type": "execute_result"
    }
   ],
   "source": [
    "mesh_arr.shape"
   ]
  },
  {
   "cell_type": "code",
   "execution_count": 130,
   "metadata": {},
   "outputs": [
    {
     "data": {
      "text/plain": [
       "(2073600, 3)"
      ]
     },
     "execution_count": 130,
     "metadata": {},
     "output_type": "execute_result"
    }
   ],
   "source": [
    "pt_arr.shape"
   ]
  },
  {
   "cell_type": "code",
   "execution_count": 364,
   "metadata": {},
   "outputs": [],
   "source": [
    "t = Image.open(\"/Users/rjpj/downloads/DM/Paper lantern.png\")\n"
   ]
  },
  {
   "cell_type": "code",
   "execution_count": 365,
   "metadata": {},
   "outputs": [],
   "source": [
    "t.show()"
   ]
  },
  {
   "cell_type": "code",
   "execution_count": 367,
   "metadata": {},
   "outputs": [],
   "source": [
    "t_r = t.resize((1920,1920),Image.ANTIALIAS)"
   ]
  },
  {
   "cell_type": "code",
   "execution_count": 368,
   "metadata": {},
   "outputs": [],
   "source": [
    "t_r.save(\"/Users/rjpj/downloads/DM/Paper lantern square.png\")"
   ]
  },
  {
   "cell_type": "code",
   "execution_count": 369,
   "metadata": {},
   "outputs": [],
   "source": [
    "t_r.show()"
   ]
  },
  {
   "cell_type": "code",
   "execution_count": null,
   "metadata": {},
   "outputs": [],
   "source": []
  }
 ],
 "metadata": {
  "kernelspec": {
   "display_name": "Python 3",
   "language": "python",
   "name": "python3"
  },
  "language_info": {
   "codemirror_mode": {
    "name": "ipython",
    "version": 3
   },
   "file_extension": ".py",
   "mimetype": "text/x-python",
   "name": "python",
   "nbconvert_exporter": "python",
   "pygments_lexer": "ipython3",
   "version": "3.7.7"
  }
 },
 "nbformat": 4,
 "nbformat_minor": 2
}
