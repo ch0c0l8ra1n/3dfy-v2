{
 "cells": [
  {
   "cell_type": "code",
   "execution_count": 1,
   "metadata": {},
   "outputs": [],
   "source": [
    "import os\n",
    "from PIL import Image\n",
    "import numpy as np\n",
    "import math\n",
    "import open3d as o3d\n",
    "from open3d import JVisualizer\n",
    "from multiprocessing.pool import Pool\n",
    "import pymesh\n",
    "import subprocess\n",
    "from io import BytesIO\n",
    "\n",
    "    \n",
    "def writeObj(verts,faces,fName=\"test.obj\"):\n",
    "    f = open(fName,\"w+\")\n",
    "    for vert in verts:\n",
    "        x,y,z = vert\n",
    "        f.write(\"v {} {} {}\\n\".format(x/1000,y/1000,z/1000))\n",
    "        \n",
    "    for t_vert in texture_verts:\n",
    "        u,v = t_vert\n",
    "        f.write(\"vt {} {}\\n\".format(u,v))\n",
    "    \n",
    "    for face in faces:\n",
    "        a,b,c = face\n",
    "        f.write(\"f {}/{} {}/{} {}/{}\\n\".format(a+1,a+1,b+1,b+1,c+1,c+1))\n",
    "    f.close()\n",
    "        \n",
    "        "
   ]
  },
  {
   "cell_type": "code",
   "execution_count": 3,
   "metadata": {},
   "outputs": [],
   "source": [
    "image_path = \"static/images/bottle.jpg\"\n",
    "#image_path = \"static/2sut9ypct9x41.jpg\"\n",
    "img = Image.open(image_path)"
   ]
  },
  {
   "cell_type": "code",
   "execution_count": 4,
   "metadata": {},
   "outputs": [
    {
     "data": {
      "text/plain": [
       "b'ExifTool Version Number         : 11.85\\nFile Name                       : bottle.jpg\\nDirectory                       : static/images\\nFile Size                       : 5.5 MB\\nFile Modification Date/Time     : 2020:06:18 14:25:52+05:45\\nFile Access Date/Time           : 2020:06:22 02:24:25+05:45\\nFile Inode Change Date/Time     : 2020:06:21 15:13:47+05:45\\nFile Permissions                : rw-r--r--\\nFile Type                       : JPEG\\nFile Type Extension             : jpg\\nMIME Type                       : image/jpeg\\nExif Byte Order                 : Little-endian (Intel, II)\\nMake                            : samsung\\nCamera Model Name               : SM-A805F\\nOrientation                     : Rotate 90 CW\\nX Resolution                    : 72\\nY Resolution                    : 72\\nResolution Unit                 : inches\\nSoftware                        : A805FXXU4BTC3\\nModify Date                     : 2020:06:17 16:03:10\\nY Cb Cr Positioning             : Centered\\nExposure Time                   : 1/303\\nF Number                        : 2.0\\nExposure Program                : Program AE\\nISO                             : 50\\nExif Version                    : 0220\\nDate/Time Original              : 2020:06:17 16:03:10\\nCreate Date                     : 2020:06:17 16:03:10\\nShutter Speed Value             : 1\\nAperture Value                  : 2.0\\nBrightness Value                : 9.01\\nExposure Compensation           : 0\\nMax Aperture Value              : 2.0\\nMetering Mode                   : Center-weighted average\\nFlash                           : No Flash\\nFocal Length                    : 4.6 mm\\nColor Space                     : sRGB\\nExif Image Width                : 4032\\nExif Image Height               : 3024\\nExposure Mode                   : Auto\\nWhite Balance                   : Auto\\nDigital Zoom Ratio              : 1\\nFocal Length In 35mm Format     : 25 mm\\nScene Capture Type              : Standard\\nImage Unique ID                 : A48QSLA01PM\\nGPS Latitude Ref                : North\\nGPS Longitude Ref               : East\\nImage Width                     : 4032\\nImage Height                    : 3024\\nEncoding Process                : Baseline DCT, Huffman coding\\nBits Per Sample                 : 8\\nColor Components                : 3\\nY Cb Cr Sub Sampling            : YCbCr4:2:0 (2 2)\\nDepth Map Name                  : DualShot_DepthMap_1\\nDepth Map Data                  : (Binary data 762048 bytes, use -b option to extract)\\nDepth Map Width                 : 1008\\nDepth Map Height                : 756\\nEmbedded Image Name             : DualShot_2\\nEmbedded Image                  : (Binary data 1203753 bytes, use -b option to extract)\\nTime Stamp                      : 2020:06:17 16:03:10+05:45\\nAperture                        : 2.0\\nImage Size                      : 4032x3024\\nMegapixels                      : 12.2\\nScale Factor To 35 mm Equivalent: 5.5\\nShutter Speed                   : 1/303\\nGPS Latitude                    : 26 deg 33\\' 13.30\" N\\nGPS Longitude                   : 88 deg 5\\' 8.80\" E\\nDepth Map Tiff                  : (Binary data 762252 bytes, use -b option to extract)\\nCircle Of Confusion             : 0.006 mm\\nField Of View                   : 71.5 deg\\nFocal Length                    : 4.6 mm (35 mm equivalent: 25.0 mm)\\nGPS Position                    : 26 deg 33\\' 13.30\" N, 88 deg 5\\' 8.80\" E\\nHyperfocal Distance             : 1.91 m\\nLight Value                     : 11.2\\n'"
      ]
     },
     "execution_count": 4,
     "metadata": {},
     "output_type": "execute_result"
    }
   ],
   "source": [
    "proc = subprocess.Popen([\"exiftool\",image_path],stdout=subprocess.PIPE)\n",
    "out,err = proc.communicate()\n",
    "out"
   ]
  },
  {
   "cell_type": "code",
   "execution_count": 5,
   "metadata": {
    "scrolled": true
   },
   "outputs": [],
   "source": [
    "proc = subprocess.Popen([\"exiftool\",\"-b\",\"-DepthMapTiff\",image_path],stdout=subprocess.PIPE)\n",
    "out,err = proc.communicate()\n",
    "if not out:\n",
    "    print(\"No depthmap\")"
   ]
  },
  {
   "cell_type": "code",
   "execution_count": 6,
   "metadata": {},
   "outputs": [],
   "source": [
    "depthmap = Image.open(BytesIO(out))\n",
    "depthmap = depthmap.rotate(-90,expand=True)\n",
    "nH = depthmap.height//4\n",
    "nW = depthmap.width//4\n",
    "depthmap = depthmap.resize((nW,nH),Image.ANTIALIAS)"
   ]
  },
  {
   "cell_type": "code",
   "execution_count": 7,
   "metadata": {},
   "outputs": [],
   "source": [
    "arr = np.array(depthmap)"
   ]
  },
  {
   "cell_type": "code",
   "execution_count": 22,
   "metadata": {},
   "outputs": [],
   "source": [
    "height , width = arr.shape\n",
    "points = []"
   ]
  },
  {
   "cell_type": "code",
   "execution_count": 23,
   "metadata": {},
   "outputs": [],
   "source": [
    "for i in range(height):\n",
    "    for j in range(width):\n",
    "        x = j\n",
    "        y = -i\n",
    "        z = -arr[i][j]\n",
    "        points.append([x,y,z])"
   ]
  },
  {
   "cell_type": "code",
   "execution_count": 24,
   "metadata": {},
   "outputs": [
    {
     "data": {
      "text/plain": [
       "[[0, 0, 7],\n",
       " [1, 0, 7],\n",
       " [2, 0, 7],\n",
       " [3, 0, 7],\n",
       " [4, 0, 7],\n",
       " [5, 0, 7],\n",
       " [6, 0, 7],\n",
       " [7, 0, 7],\n",
       " [8, 0, 7],\n",
       " [9, 0, 7]]"
      ]
     },
     "execution_count": 24,
     "metadata": {},
     "output_type": "execute_result"
    }
   ],
   "source": [
    "points[:10]"
   ]
  },
  {
   "cell_type": "code",
   "execution_count": 25,
   "metadata": {},
   "outputs": [],
   "source": [
    "pt_arr= np.array(points)"
   ]
  },
  {
   "cell_type": "code",
   "execution_count": 26,
   "metadata": {},
   "outputs": [],
   "source": [
    "o3d_cloud = o3d.geometry.PointCloud()\n",
    "o3d_cloud.points = o3d.utility.Vector3dVector(pt_arr)\n",
    "o3d.visualization.draw_geometries_with_editing([o3d_cloud])"
   ]
  },
  {
   "cell_type": "code",
   "execution_count": null,
   "metadata": {},
   "outputs": [],
   "source": [
    "texture_verts = []\n",
    "mesh = []\n",
    "\n",
    "for i in range(height):\n",
    "    for j in range(width):\n",
    "        tex = [\n",
    "            j / width,\n",
    "            1 - i / height\n",
    "        ]\n",
    "        texture_verts.append(tex)\n",
    "\n",
    "for i in range(height - 1 ):\n",
    "    for j in range(width - 1):\n",
    "        triangle1 = [\n",
    "            i*width + j  ,\n",
    "            i*width + (j + 1) ,\n",
    "            (i+1)* width + j\n",
    "        ]\n",
    "        triangle1.reverse()\n",
    "        \n",
    "        triangle2 = [\n",
    "            i*width + (j + 1) ,\n",
    "            (i+1) * width + (j+1),\n",
    "            (i+1)* width + j\n",
    "        ]\n",
    "        triangle2.reverse()\n",
    "        \n",
    "        mesh.append(triangle1)\n",
    "        mesh.append(triangle2)\n",
    "\n",
    "        "
   ]
  },
  {
   "cell_type": "code",
   "execution_count": null,
   "metadata": {},
   "outputs": [],
   "source": [
    "mesh_arr = np.array(mesh)\n",
    "mesh_arr.shape"
   ]
  },
  {
   "cell_type": "code",
   "execution_count": null,
   "metadata": {},
   "outputs": [],
   "source": [
    "o3d_mesh = o3d.geometry.TriangleMesh()\n",
    "o3d_mesh.vertices= o3d.utility.Vector3dVector(pt_arr)\n",
    "o3d_mesh.triangles = o3d.utility.Vector3iVector(mesh_arr)\n",
    "o3d.visualization.draw_geometries_with_editing([o3d_mesh])"
   ]
  },
  {
   "cell_type": "code",
   "execution_count": null,
   "metadata": {},
   "outputs": [],
   "source": [
    "o3d_lines = o3d.geometry.LineSet.create_from_triangle_mesh(o3d_mesh)\n",
    "o3d.visualization.draw_geometries_with_editing([o3d_lines])"
   ]
  },
  {
   "cell_type": "code",
   "execution_count": null,
   "metadata": {},
   "outputs": [],
   "source": [
    "writeObj(pt_arr,mesh_arr)"
   ]
  },
  {
   "cell_type": "code",
   "execution_count": null,
   "metadata": {},
   "outputs": [],
   "source": [
    "os.getcwd()"
   ]
  },
  {
   "cell_type": "code",
   "execution_count": null,
   "metadata": {},
   "outputs": [],
   "source": []
  }
 ],
 "metadata": {
  "kernelspec": {
   "display_name": "Python 3",
   "language": "python",
   "name": "python3"
  },
  "language_info": {
   "codemirror_mode": {
    "name": "ipython",
    "version": 3
   },
   "file_extension": ".py",
   "mimetype": "text/x-python",
   "name": "python",
   "nbconvert_exporter": "python",
   "pygments_lexer": "ipython3",
   "version": "3.7.7"
  }
 },
 "nbformat": 4,
 "nbformat_minor": 4
}
